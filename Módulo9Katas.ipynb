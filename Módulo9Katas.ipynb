{
  "cells": [
    {
      "cell_type": "markdown",
      "metadata": {},
      "source": [
        "# Kata 9: Funciones"
      ]
    },
    {
      "cell_type": "markdown",
      "metadata": {},
      "source": [
        "### Ejercicio 1: Trabajar con argumentos en funciones\n",
        "\n",
        "Los argumentos requeridos en las funciones se utilizan cuando las funciones necesitan que esos argumentos funcionen correctamente. En este ejercicio, construirás un informe de combustible que requiere información de varias ubicaciones de combustible en todo el cohete.\n",
        "\n"
      ]
    },
    {
      "cell_type": "markdown",
      "metadata": {},
      "source": [
        "> **TIP**\n",
        "> Dedica unos minutos para tratar de encontrar una solución. Luego desplázate hacia abajo hasta la parte inferior para ver si has logrado compilar el programa de acuerdo con las especificaciones\n",
        "\n",
        "Comienza por crear una función que necesite tres lecturas de combustible y devuelva un informe:"
      ]
    },
    {
      "cell_type": "code",
      "execution_count": 19,
      "metadata": {},
      "outputs": [],
      "source": [
        "# Función para leer 3 tanques de combustible y muestre el promedio\n",
        "def reporte(tanque1,tanque2,tanque3):\n",
        "    total = (tanque1+tanque2+tanque3)/3\n",
        "    return f\"\"\" REPORTE \n",
        "    Tanque 1: {tanque1}\n",
        "    Tanque 2: {tanque2}\n",
        "    Tanque 3: {tanque3}\n",
        "    Promedio total: {total}    \n",
        "    \"\"\""
      ]
    },
    {
      "cell_type": "markdown",
      "metadata": {},
      "source": [
        "Ahora que hemos definido la función de informes, vamos a comprobarlo. Para esta misión, los tanques no están llenos:"
      ]
    },
    {
      "cell_type": "code",
      "execution_count": 20,
      "metadata": {},
      "outputs": [
        {
          "name": "stdout",
          "output_type": "stream",
          "text": [
            " REPORTE \n",
            "    Tanque 1: 80\n",
            "    Tanque 2: 70\n",
            "    Tanque 3: 75\n",
            "    Promedio total: 75.0    \n",
            "    \n"
          ]
        }
      ],
      "source": [
        "\n",
        "# Llamamos a la función que genera el reporte print(funcion(tanque1, tanque2, tanque3))\n",
        "print(reporte(80,70,75))\n"
      ]
    },
    {
      "cell_type": "markdown",
      "metadata": {},
      "source": [
        "En lugar de simplemente crear el informe, la función también está calculando el promedio. Mejora la legibilidad extrayendo el cálculo promedio de la función en una nueva función para que el promedio se pueda hacer de forma independiente:"
      ]
    },
    {
      "cell_type": "code",
      "execution_count": 25,
      "metadata": {},
      "outputs": [],
      "source": [
        "# Función promedio \n",
        "import statistics\n",
        "def promedio(tanques):\n",
        "    prom = statistics.mean(tanques)\n",
        "    return prom"
      ]
    },
    {
      "cell_type": "markdown",
      "metadata": {},
      "source": [
        "Ahora actualiza la función de informes para llamando a la nueva función del promedio:\n"
      ]
    },
    {
      "cell_type": "code",
      "execution_count": 27,
      "metadata": {},
      "outputs": [
        {
          "name": "stdout",
          "output_type": "stream",
          "text": [
            " REPORTE \n",
            "    Tanque 1: 70\n",
            "    Tanque 2: 80\n",
            "    Tanque 3: 75\n",
            "    Promedio total: 75    \n",
            "    \n"
          ]
        }
      ],
      "source": [
        "# Actualiza la función\n",
        "def reporte(tanque1,tanque2,tanque3):\n",
        "    return f\"\"\" REPORTE \n",
        "    Tanque 1: {tanque1}\n",
        "    Tanque 2: {tanque2}\n",
        "    Tanque 3: {tanque3}\n",
        "    Promedio total: {promedio([tanque1,tanque2,tanque3])}    \n",
        "    \"\"\"\n",
        "print(reporte(70,80,75))"
      ]
    },
    {
      "cell_type": "markdown",
      "metadata": {},
      "source": [
        "## Ejercicio 2: Trabajo con argumentos de palabra clave"
      ]
    },
    {
      "cell_type": "markdown",
      "metadata": {},
      "source": [
        "### Ejercicio : Trabajar con argumentos de palabras clave en funciones\n",
        "En este ejercicio, construirás un informe de cohete que requiere varias piezas de información, como el tiempo hasta el destino, el combustible a la izquierda y el nombre del destino. Comienza por crear una función que creará un informe preciso de la misión:"
      ]
    },
    {
      "cell_type": "code",
      "execution_count": 29,
      "metadata": {},
      "outputs": [
        {
          "name": "stdout",
          "output_type": "stream",
          "text": [
            "\n",
            "    Hora de prelanzamiento: 14 min\n",
            "    Tiempo de vuelo: 51 min\n",
            "    -----------------------------------\n",
            "    Tiempo total: 65 min\n",
            "\n",
            "    Destino: Moon\n",
            "\n",
            "    Tanque externo: 200000\n",
            "    Tanque interno: 300000\n",
            "    -----------------------------------\n",
            "    Combustible total: 500000\n",
            "\n",
            "    \n"
          ]
        }
      ],
      "source": [
        "# Función con un informe preciso de la misión. Considera hora de prelanzamiento, tiempo de vuelo, destino, tanque externo y tanque interno\n",
        "def informe(prelanz,vuelo,destino,externo,interno):\n",
        "    return f\"\"\"\n",
        "    Hora de prelanzamiento: {prelanz} min\n",
        "    Tiempo de vuelo: {vuelo} min\n",
        "    -----------------------------------\n",
        "    Tiempo total: {prelanz + vuelo} min\n",
        "\n",
        "    Destino: {destino}\n",
        "\n",
        "    Tanque externo: {externo}\n",
        "    Tanque interno: {interno}\n",
        "    -----------------------------------\n",
        "    Combustible total: {externo + interno}\n",
        "\n",
        "    \"\"\"\n",
        "print(informe(14, 51, \"Moon\", 200000, 300000))\n"
      ]
    },
    {
      "cell_type": "markdown",
      "metadata": {},
      "source": [
        "La función es problemática porque no se puede adaptar para minutos adicionales o tanques adicionales de combustible. Hazlo más flexible permitiendo cualquier número de pasos basados en el tiempo y cualquier número de tanques. En lugar de usar `*args` y `**kwargs`, aprovecha el hecho de que puedes usar cualquier nombre que desees. Asegurate que la función sea más legible mediante el uso de nombres de variables que están asociados con las entradas, como `*minutes` y `**fuel_reservoirs`:"
      ]
    },
    {
      "cell_type": "code",
      "execution_count": 35,
      "metadata": {},
      "outputs": [
        {
          "name": "stdout",
          "output_type": "stream",
          "text": [
            "\n",
            "    Tiempo total: 65 min\n",
            "\n",
            "    Destino: Moon\n",
            "\n",
            "    Combustible total: 500000\n",
            "\n",
            "    \n"
          ]
        }
      ],
      "source": [
        "# Escribe tu nueva función de reporte considerando lo anterior\n",
        "\n",
        "def informe(destino,*tiempo,**combustible):\n",
        "    return f\"\"\"\n",
        "    Tiempo total: {sum(tiempo)} min\n",
        "\n",
        "    Destino: {destino}\n",
        "\n",
        "    Combustible total: {sum(combustible.values())}\n",
        "\n",
        "    \"\"\"\n",
        "print(informe(\"Moon\",14, 51, externo = 200000, interno = 300000))"
      ]
    },
    {
      "cell_type": "markdown",
      "metadata": {},
      "source": [
        "Debido a que el combustible que queda en los tanques es específico de cada tanque, actualiza la función para usar el nombre de cada tanque en el informe:"
      ]
    },
    {
      "cell_type": "code",
      "execution_count": 49,
      "metadata": {},
      "outputs": [
        {
          "name": "stdout",
          "output_type": "stream",
          "text": [
            "\n",
            "    Tiempo total: 65 min\n",
            "    Destino: Moon\n",
            "    Combustible total: 23703924\n",
            "    Tanque externo con 200000 galones.\n",
            "Tanque interno con 300000 galones.\n",
            "Tanque otro con 23203924 galones.\n",
            "\n"
          ]
        }
      ],
      "source": [
        "# Escribe tu nueva función\n",
        "def informe(destino,*tiempo,**combustible):\n",
        "    info = f\"\"\"\n",
        "    Tiempo total: {sum(tiempo)} min\n",
        "    Destino: {destino}\n",
        "    Combustible total: {sum(combustible.values())}\n",
        "    \"\"\"\n",
        "    for name,fuel in combustible.items():\n",
        "        info += f'Tanque {name} con {fuel} galones.\\n'\n",
        "    return info\n",
        "print(informe(\"Moon\",14, 51, externo = 200000, interno = 300000, otro =23203924))"
      ]
    },
    {
      "cell_type": "code",
      "execution_count": null,
      "metadata": {},
      "outputs": [],
      "source": []
    }
  ],
  "metadata": {
    "interpreter": {
      "hash": "205095b8b86ea82a021a8fc2ffba2b3bc9f8d0be25999901963b225939f75778"
    },
    "kernelspec": {
      "display_name": "Python 3.8.10 64-bit ('tmp': conda)",
      "name": "python3"
    },
    "language_info": {
      "codemirror_mode": {
        "name": "ipython",
        "version": 3
      },
      "file_extension": ".py",
      "mimetype": "text/x-python",
      "name": "python",
      "nbconvert_exporter": "python",
      "pygments_lexer": "ipython3",
      "version": "3.10.2"
    },
    "nteract": {
      "version": "nteract-front-end@1.0.0"
    },
    "orig_nbformat": 4
  },
  "nbformat": 4,
  "nbformat_minor": 2
}
